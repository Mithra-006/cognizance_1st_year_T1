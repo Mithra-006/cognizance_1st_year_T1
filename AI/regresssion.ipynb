{
  "nbformat": 4,
  "nbformat_minor": 0,
  "metadata": {
    "colab": {
      "provenance": [],
      "authorship_tag": "ABX9TyPx6cWkjLhN5iR7VOlWI+4h",
      "include_colab_link": true
    },
    "kernelspec": {
      "name": "python3",
      "display_name": "Python 3"
    },
    "language_info": {
      "name": "python"
    }
  },
  "cells": [
    {
      "cell_type": "markdown",
      "metadata": {
        "id": "view-in-github",
        "colab_type": "text"
      },
      "source": [
        "<a href=\"https://colab.research.google.com/github/Mithra-006/cognizance_1st_year_T1/blob/main/regresssion.ipynb\" target=\"_parent\"><img src=\"https://colab.research.google.com/assets/colab-badge.svg\" alt=\"Open In Colab\"/></a>"
      ]
    },
    {
      "cell_type": "code",
      "source": [
        "# Model Selection for Regression with Scikit-learn\n",
        "\n",
        "#!pip install pandas numpy matplotlib scikit-learn\n",
        "\n",
        "#LOADING THE DATA\n",
        "from sklearn.datasets import load_diabetes\n",
        "import pandas as pd\n",
        "import numpy as np\n",
        "import matplotlib.pyplot as plt\n",
        "data = load_diabetes()\n",
        "df = pd.DataFrame(data.data, columns=data.feature_names) # converting the data into pandas dataframe\n",
        "df['progression'] = data.target #\n",
        "df.to_csv(\"diabetes.csv\", index=False)\n",
        "print(df)\n",
        "\n",
        "# CHECK THE MISSED DATA\n",
        "if df.isnull().sum().any(): # checking the missed data if any\n",
        "    print(\"Missing values found. Filling with median values.\")\n",
        "    df.fillna(df.median(), inplace=True)\n",
        "else:\n",
        "    print(\"No missing values found.\")\n",
        "\n",
        "#DROP A COLUMN AND TRAIN THE MODEL 80-20\n",
        "X=df.drop('progression',axis=1)\n",
        "Y=df['progression']\n",
        "from sklearn.model_selection import train_test_split\n",
        "X_train,X_test,Y_train,Y_test=train_test_split(X,Y,test_size=0.2,random_state=42) #training the model by 80-20 split\n",
        "\n",
        "#STANDARDISE THE DATA\n",
        "from sklearn.preprocessing import StandardScaler\n",
        "sc=StandardScaler()\n",
        "X_train=sc.fit_transform(X_train) # standardising the training and testing model\n",
        "X_test=sc.transform(X_test)\n",
        "\n",
        "from sklearn.metrics import mean_squared_error\n",
        "\n",
        "#LINEARREGRESSION MODEL\n",
        "from sklearn.linear_model import LinearRegression\n",
        "lr=LinearRegression() # creation of linear regression\n",
        "lr.fit(X_train,Y_train)\n",
        "\n",
        "#RIDGE REGRESSION\n",
        "from sklearn.linear_model import Ridge\n",
        "ridge=Ridge(alpha=1.0) # creation of ridge regression\n",
        "ridge.fit(X_train,Y_train)\n",
        "\n",
        "#RANDOMFORESTREGRESSOR\n",
        "from sklearn.ensemble import RandomForestRegressor\n",
        "rf = RandomForestRegressor(n_estimators=100, random_state=42) # creation of random forest regressor\n",
        "rf.fit(X_train,  Y_train)\n",
        "\n",
        "#CROSS VALIDATION PROCESS\n",
        "from sklearn.model_selection import cross_val_score\n",
        "l=[lr,ridge,rf]\n",
        "for i in l:\n",
        "    mse = -cross_val_score(i, X_train, Y_train, cv=5, scoring='neg_mean_squared_error').mean() # cross validating the trained model to know about, which is the best model\n",
        "    print(f\"{i}: Mean Squared Error = {mse:.2f}\")\n",
        "\n",
        "#RIDGE IS THE BEST MODEL ,BECAUSE IT HAS THE LEAST MSE VALUE\n",
        "\n",
        "# since the mse valaue is low for ridge regression, it is the best model which can be taken for further process\n",
        "y_pred = ridge.predict(X_test)\n",
        "mse = mean_squared_error(Y_test, y_pred)\n",
        "print(\" \")\n",
        "print(\"mean squared error value of the best model is: \",mse)\n",
        "\n",
        "\n",
        "\n",
        "\n",
        "\n",
        "\n"
      ],
      "metadata": {
        "colab": {
          "base_uri": "https://localhost:8080/"
        },
        "id": "uA8NFzSRvJDf",
        "outputId": "ed6ed587-b760-4310-98cb-634ea9c2f675"
      },
      "execution_count": 5,
      "outputs": [
        {
          "output_type": "stream",
          "name": "stdout",
          "text": [
            "          age       sex       bmi        bp        s1        s2        s3  \\\n",
            "0    0.038076  0.050680  0.061696  0.021872 -0.044223 -0.034821 -0.043401   \n",
            "1   -0.001882 -0.044642 -0.051474 -0.026328 -0.008449 -0.019163  0.074412   \n",
            "2    0.085299  0.050680  0.044451 -0.005670 -0.045599 -0.034194 -0.032356   \n",
            "3   -0.089063 -0.044642 -0.011595 -0.036656  0.012191  0.024991 -0.036038   \n",
            "4    0.005383 -0.044642 -0.036385  0.021872  0.003935  0.015596  0.008142   \n",
            "..        ...       ...       ...       ...       ...       ...       ...   \n",
            "437  0.041708  0.050680  0.019662  0.059744 -0.005697 -0.002566 -0.028674   \n",
            "438 -0.005515  0.050680 -0.015906 -0.067642  0.049341  0.079165 -0.028674   \n",
            "439  0.041708  0.050680 -0.015906  0.017293 -0.037344 -0.013840 -0.024993   \n",
            "440 -0.045472 -0.044642  0.039062  0.001215  0.016318  0.015283 -0.028674   \n",
            "441 -0.045472 -0.044642 -0.073030 -0.081413  0.083740  0.027809  0.173816   \n",
            "\n",
            "           s4        s5        s6  progression  \n",
            "0   -0.002592  0.019907 -0.017646        151.0  \n",
            "1   -0.039493 -0.068332 -0.092204         75.0  \n",
            "2   -0.002592  0.002861 -0.025930        141.0  \n",
            "3    0.034309  0.022688 -0.009362        206.0  \n",
            "4   -0.002592 -0.031988 -0.046641        135.0  \n",
            "..        ...       ...       ...          ...  \n",
            "437 -0.002592  0.031193  0.007207        178.0  \n",
            "438  0.034309 -0.018114  0.044485        104.0  \n",
            "439 -0.011080 -0.046883  0.015491        132.0  \n",
            "440  0.026560  0.044529 -0.025930        220.0  \n",
            "441 -0.039493 -0.004222  0.003064         57.0  \n",
            "\n",
            "[442 rows x 11 columns]\n",
            "No missing values found.\n",
            "LinearRegression(): Mean Squared Error = 3143.02\n",
            "Ridge(): Mean Squared Error = 3135.66\n",
            "RandomForestRegressor(random_state=42): Mean Squared Error = 3518.98\n",
            " \n",
            "mean squared error value of the best model is:  2892.0145657501726\n"
          ]
        }
      ]
    },
    {
      "cell_type": "code",
      "source": [],
      "metadata": {
        "id": "_Fx6EvtfFNEz"
      },
      "execution_count": null,
      "outputs": []
    }
  ]
}